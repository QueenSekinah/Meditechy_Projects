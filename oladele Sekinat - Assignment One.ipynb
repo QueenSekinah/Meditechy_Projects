{
 "cells": [
  {
   "cell_type": "markdown",
   "id": "f248b72f-b3db-45b7-9860-546664a019a7",
   "metadata": {},
   "source": [
    "### Exercise 1\n",
    "\n",
    "XYZ is one of the leading banks in west Africa. Recently, the bank announced a 5.5% increase for their mid-level staff retroactive for 8 months. Given that the original annual salary is 5 million, write a program that outputs the amount of retroactive pay due to the staff, the new annual salary, and new monthly salary. Your answers should be well formatted by taking the advantage of Python string formatting.\n",
    "* __Hint: Understand how retro active pay is calculated__"
   ]
  },
  {
   "cell_type": "markdown",
   "id": "08ab6cfa-1574-4c82-b43a-296a6f15da13",
   "metadata": {},
   "source": [
    "__Instructions for Completing the Assignment__\n",
    "\n",
    "Objective: Using the provided data regarding an announced 5.5% salary increase retroactive for 8 months by XYZ bank, your task is to calculate and display:\n",
    "\n",
    "The retroactive pay due to the staff,\n",
    "The new annual salary,\n",
    "The new monthly salary.\n",
    "Guidelines:\n",
    "\n",
    "Understand the Problem:\n",
    "\n",
    "The bank has announced a 5.5% salary increase, which will be applied retroactively for the past 8 months. This means you need to calculate the amount the bank owes each mid-level staff member for the past 8 months based on this increase. Additionally, you'll determine their updated annual and monthly salaries.\n",
    "\n",
    "Use Given Data:\n",
    "\n",
    "The original annual salary, the salary increase percentage, and the number of months the increase is retroactive for are already provided. Use these values directly in your calculations.\n",
    "\n",
    "Steps:\n",
    "- Begin by calculating the original monthly salary by dividing the `original_annual_salary` by 12. Name this variable monthly_salary_original.\n",
    "- Calculate the increase in monthly salary due to the announced percentage increase. Name this variable `retroactive_increase`.\n",
    "- Multiply the `retroactive_increase` by the `months_retroactive` to find out the total retroactive pay due. Name this variable `retroactive_pay`.\n",
    "- Calculate the increase in the annual salary and determine the new annual salary. Name these variables `annual_increase` and `new_annual_salary` respectively.\n",
    "- Determine the new monthly salary by dividing the `new_annual_salary` by 12. Name this variable `new_monthly_salary`.\n",
    "\n",
    "Variable Naming:\n",
    "\n",
    "Ensure you use the exact variable names mentioned in the steps above for your calculations. This is crucial for auto-grading.\n",
    "  \n",
    "Testing:\n",
    "Verify your calculations. The retroactive pay, for instance, should be the sum of the increased amount for each of the past 8 months.\n",
    "\n",
    "Submission:\n",
    "- Once you've written your code and verified the outputs, make sure to run the entire notebook one last time to confirm everything works sequentially.\n",
    "- Save your Jupyter Notebook and follow the submission guidelines provided by the instructor.\n",
    "\n",
    "Note:\n",
    "- Do not modify the given data or any other predefined elements in the notebook. Only add your code where necessary.\n",
    "- Avoid using functions or advanced programming concepts not yet covered in the course.\n",
    "- Maintain academic integrity. Ensure your submission is your original work and avoid sharing your solution with classmates."
   ]
  },
  {
   "cell_type": "code",
   "execution_count": 4,
   "id": "68bdc2d8-ff4d-4c3b-b57a-a73d2dde9942",
   "metadata": {},
   "outputs": [
    {
     "name": "stdout",
     "output_type": "stream",
     "text": [
      "Retroactive Pay: $264,000.00\n",
      "New Annual Salary: $5,002,750.00\n",
      "New Monthly Salary: $416,895.83\n"
     ]
    }
   ],
   "source": [
    "# Given Data\n",
    "original_annual_salary = 5000000\n",
    "salary_increase_percentage = 5.5 / 100\n",
    "months_retroactive = 8\n",
    "monthly_salary_original = original_annual_salary / 12\n",
    "\n",
    "### BEGIN SOLUTION\n",
    "# Calculating the retroactive pay\n",
    "retroactive_increase = (salary_increase_percentage / 100) * monthly_salary_original\n",
    "retroactive_pay = retroactive_increase * months_retroactive\n",
    "monthly_salary_original = original_annual_salary / 12\n",
    "# Calculating new annual and monthly salary\n",
    "annual_increase = (salary_increase_percentage / 100) * original_annual_salary\n",
    "new_annual_salary = original_annual_salary + annual_increase\n",
    "new_monthly_salary = new_annual_salary / 12\n",
    "\n",
    "# Outputting the results\n",
    "print(\"Retroactive Pay: ${:,.2f}\".format(retroactive_pay))\n",
    "print(\"New Annual Salary: ${:,.2f}\".format(new_annual_salary))\n",
    "print(\"New Monthly Salary: ${:,.2f}\".format(new_monthly_salary))\n"
   ]
  },
  {
   "cell_type": "code",
   "execution_count": 1,
   "id": "90729e12-1c00-4147-98f7-a722c0887b5e",
   "metadata": {},
   "outputs": [
    {
     "name": "stdout",
     "output_type": "stream",
     "text": [
      "416666.6666666667\n"
     ]
    }
   ],
   "source": [
    "#Calculate the original month salary\n",
    "original_annual_salary = 5000000\n",
    "month_salary_original = original_annual_salary / 12\n",
    "print(month_salary_original)"
   ]
  },
  {
   "cell_type": "code",
   "execution_count": 5,
   "id": "08dd4a97",
   "metadata": {},
   "outputs": [
    {
     "name": "stdout",
     "output_type": "stream",
     "text": [
      "416667\n"
     ]
    }
   ],
   "source": [
    "import math\n",
    "\n",
    "original_annual_salary = 5000000\n",
    "month_salary_original = original_annual_salary / 12\n",
    "\n",
    "# Round up to the nearest whole number\n",
    "month_salary_original = math.ceil(month_salary_original)\n",
    "\n",
    "print(month_salary_original)"
   ]
  },
  {
   "cell_type": "code",
   "execution_count": 6,
   "id": "40ceecea",
   "metadata": {},
   "outputs": [
    {
     "name": "stdout",
     "output_type": "stream",
     "text": [
      "229.16685\n"
     ]
    }
   ],
   "source": [
    "#Calculate the increase in monthly salary due to the annual percentage increase\n",
    "month_salary_original = 416667\n",
    "salary_increase_percentage = 5.5 / 100\n",
    "retroactive_increase = month_salary_original * (salary_increase_percentage / 100)\n",
    "print(retroactive_increase)"
   ]
  },
  {
   "cell_type": "code",
   "execution_count": 7,
   "id": "b8aef5e7",
   "metadata": {},
   "outputs": [
    {
     "name": "stdout",
     "output_type": "stream",
     "text": [
      "1833.3348\n"
     ]
    }
   ],
   "source": [
    "#Calculate the total retroactive pay due\n",
    "retroactive_increase = 229.16685\n",
    "months_retroactive = 8\n",
    "retroactive_pay = retroactive_increase * months_retroactive\n",
    "print(retroactive_pay)"
   ]
  },
  {
   "cell_type": "code",
   "execution_count": 8,
   "id": "e3265a59",
   "metadata": {},
   "outputs": [
    {
     "name": "stdout",
     "output_type": "stream",
     "text": [
      "2750.0\n"
     ]
    }
   ],
   "source": [
    "#Calculate the increase in annual salary and determine the new annual salary\n",
    "original_annual_salary = 5000000\n",
    "salary_increase_percentage = 5.5 / 100\n",
    "annual_increase = original_annual_salary * (salary_increase_percentage / 100)\n",
    "\n",
    "print(annual_increase)"
   ]
  },
  {
   "cell_type": "code",
   "execution_count": 9,
   "id": "69b0cafc",
   "metadata": {},
   "outputs": [
    {
     "name": "stdout",
     "output_type": "stream",
     "text": [
      "5002750.0\n"
     ]
    }
   ],
   "source": [
    "#Calculate the new annual salary\n",
    "original_annual_salary = 5000000\n",
    "annual_increase = 2750.0\n",
    "new_annual_salary = original_annual_salary + annual_increase\n",
    "\n",
    "print(new_annual_salary)"
   ]
  },
  {
   "cell_type": "code",
   "execution_count": 10,
   "id": "c6352b89",
   "metadata": {},
   "outputs": [
    {
     "name": "stdout",
     "output_type": "stream",
     "text": [
      "416895.8333333333\n"
     ]
    }
   ],
   "source": [
    "#Calculate the new monthly salary\n",
    "new_annual_salary = 5002750.0\n",
    "new_monthly_salary = new_annual_salary / 12\n",
    "\n",
    "print(new_monthly_salary)"
   ]
  },
  {
   "cell_type": "markdown",
   "id": "0b72e00d-2172-4418-ae9c-9fbc4ddb3d23",
   "metadata": {},
   "source": [
    "### Exercise 2\n",
    "\n",
    "Write a program that welcomes a user to your program by displaying their full name. Ask them to input theri first and last names and store them in variables named  _firstName_ and _lastName_ respectively.\n",
    "* __Hint: Refer to Python string manipulation__"
   ]
  },
  {
   "cell_type": "markdown",
   "id": "394ec8cb-6b0a-43ba-90dc-d5fd2a21e486",
   "metadata": {},
   "source": []
  },
  {
   "cell_type": "markdown",
   "id": "975a3bd5",
   "metadata": {},
   "source": [
    "Welcome to my python programming in medicine"
   ]
  },
  {
   "cell_type": "code",
   "execution_count": 1,
   "id": "a17f9865",
   "metadata": {},
   "outputs": [
    {
     "name": "stdout",
     "output_type": "stream",
     "text": [
      "first_name:Sekinah\n",
      "last_nameOladele\n",
      "Welcome Sekinah Oladele to_my_python_programming\n"
     ]
    }
   ],
   "source": [
    "first_name = input(\"first_name:\")\n",
    "last_name = input(\"last_name\")\n",
    "\n",
    "print('Welcome', first_name, last_name, 'to_my_python_programming')\n"
   ]
  },
  {
   "cell_type": "code",
   "execution_count": null,
   "id": "7ebf5232",
   "metadata": {},
   "outputs": [],
   "source": []
  },
  {
   "cell_type": "code",
   "execution_count": null,
   "id": "bf9004f6",
   "metadata": {},
   "outputs": [],
   "source": []
  }
 ],
 "metadata": {
  "kernelspec": {
   "display_name": "Python 3 (ipykernel)",
   "language": "python",
   "name": "python3"
  },
  "language_info": {
   "codemirror_mode": {
    "name": "ipython",
    "version": 3
   },
   "file_extension": ".py",
   "mimetype": "text/x-python",
   "name": "python",
   "nbconvert_exporter": "python",
   "pygments_lexer": "ipython3",
   "version": "3.10.9"
  }
 },
 "nbformat": 4,
 "nbformat_minor": 5
}
