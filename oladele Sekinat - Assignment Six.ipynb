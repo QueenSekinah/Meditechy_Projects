{
 "cells": [
  {
   "cell_type": "markdown",
   "id": "9473baad",
   "metadata": {},
   "source": [
    "### Mini project 8 -- Revisiting Ali and Johnson\n",
    "As Ali & Jonson continues to grow, keeping all of their data in a dicionary is becoming inefficient. You are approached as the in-house data guy to find a solution to this problem. Below is the dictionary containing the products soldand various fields that must be transformed to an efficeint storage format.\n",
    "\n",
    "1. Convert this dictionary to a Pandas DataFrame\n",
    "2. Altogether, how many products are present in your newly created DataFrame?\n",
    "3. How many unique product categories are present in the DataFrame?\n",
    "4. What category has the most product sold?\n",
    "5. What is the least Price you can expect to get a product from Ali & Johnson? What product goes for this price?\n",
    "6. What is the total number of product sold during this period?\n",
    "7. Create a new field (i.e column) to calculate the revenue generated selling each product. [revenue = price * unit sold]\n",
    "8. Which product category generated the highest revenue?"
   ]
  },
  {
   "cell_type": "code",
   "execution_count": 1,
   "id": "fc9fa31e",
   "metadata": {},
   "outputs": [],
   "source": [
    "product_dict = {\"Product Name\":\n",
    "                ['footwear', 'eyewear','bags','table','ear ring','chair','couch','bed frame', 'TV','Sunglass','refrigirator'],\n",
    "               \"Product Category\":\n",
    "                ['Fashion', 'Fashion', 'Fashion', 'Furniture', 'Fashion', 'Furniture','Furniture','Furniture','Electronics', 'Fashion', 'Electronics'],\n",
    "               \"Unit Sold\":[3,4,2,6,4,5,2,1,8, 8,7],\n",
    "               \"Price\":[10,5,7,15,20,17,23,29,54,6,60]}"
   ]
  },
  {
   "cell_type": "code",
   "execution_count": 3,
   "id": "b4c1addf",
   "metadata": {},
   "outputs": [
    {
     "name": "stdout",
     "output_type": "stream",
     "text": [
      "Requirement already satisfied: pandas in c:\\users\\dell\\downloads\\anaconda\\lib\\site-packages (1.5.3)\n",
      "Requirement already satisfied: numpy>=1.21.0 in c:\\users\\dell\\downloads\\anaconda\\lib\\site-packages (from pandas) (1.23.5)\n",
      "Requirement already satisfied: python-dateutil>=2.8.1 in c:\\users\\dell\\downloads\\anaconda\\lib\\site-packages (from pandas) (2.8.2)\n",
      "Requirement already satisfied: pytz>=2020.1 in c:\\users\\dell\\downloads\\anaconda\\lib\\site-packages (from pandas) (2022.7)\n",
      "Requirement already satisfied: six>=1.5 in c:\\users\\dell\\downloads\\anaconda\\lib\\site-packages (from python-dateutil>=2.8.1->pandas) (1.16.0)\n"
     ]
    }
   ],
   "source": [
    "!pip install pandas"
   ]
  },
  {
   "cell_type": "code",
   "execution_count": 3,
   "id": "e2945b4e",
   "metadata": {},
   "outputs": [
    {
     "name": "stdout",
     "output_type": "stream",
     "text": [
      "    Product Name Product Category  Unit Sold  Price\n",
      "0       footwear          Fashion          3     10\n",
      "1        eyewear          Fashion          4      5\n",
      "2           bags          Fashion          2      7\n",
      "3          table        Furniture          6     15\n",
      "4       ear ring          Fashion          4     20\n",
      "5          chair        Furniture          5     17\n",
      "6          couch        Furniture          2     23\n",
      "7      bed frame        Furniture          1     29\n",
      "8             TV      Electronics          8     54\n",
      "9       Sunglass          Fashion          8      6\n",
      "10  refrigirator      Electronics          7     60\n"
     ]
    }
   ],
   "source": [
    "# Convert this dictionary to a Pandas DataFrame\n",
    "\n",
    "import pandas as pd\n",
    "\n",
    "product_dict = {\"Product Name\":\n",
    "                ['footwear', 'eyewear','bags','table','ear ring','chair','couch','bed frame', 'TV','Sunglass','refrigirator'],\n",
    "               \"Product Category\":\n",
    "                ['Fashion', 'Fashion', 'Fashion', 'Furniture', 'Fashion', 'Furniture','Furniture','Furniture','Electronics', 'Fashion', 'Electronics'],\n",
    "               \"Unit Sold\":[3,4,2,6,4,5,2,1,8, 8,7],\n",
    "               \"Price\":[10,5,7,15,20,17,23,29,54,6,60]}\n",
    "#converting the product_dict to a df\n",
    "df = pd.DataFrame(product_dict)\n",
    "print(df)"
   ]
  },
  {
   "cell_type": "code",
   "execution_count": 4,
   "id": "525a5f7d",
   "metadata": {},
   "outputs": [
    {
     "name": "stdout",
     "output_type": "stream",
     "text": [
      "The total number of products are: 11\n"
     ]
    }
   ],
   "source": [
    "# Number of products present in my newly created DataFrame\n",
    "\n",
    "num_products = df.shape[0]\n",
    "\n",
    "print(f\"The total number of products are: {num_products}\")"
   ]
  },
  {
   "cell_type": "code",
   "execution_count": 10,
   "id": "a41b6a8b",
   "metadata": {},
   "outputs": [
    {
     "data": {
      "text/html": [
       "<div>\n",
       "<style scoped>\n",
       "    .dataframe tbody tr th:only-of-type {\n",
       "        vertical-align: middle;\n",
       "    }\n",
       "\n",
       "    .dataframe tbody tr th {\n",
       "        vertical-align: top;\n",
       "    }\n",
       "\n",
       "    .dataframe thead th {\n",
       "        text-align: right;\n",
       "    }\n",
       "</style>\n",
       "<table border=\"1\" class=\"dataframe\">\n",
       "  <thead>\n",
       "    <tr style=\"text-align: right;\">\n",
       "      <th></th>\n",
       "      <th>Product Name</th>\n",
       "      <th>Product Category</th>\n",
       "      <th>Unit Sold</th>\n",
       "      <th>Price</th>\n",
       "      <th>Product_category</th>\n",
       "    </tr>\n",
       "  </thead>\n",
       "  <tbody>\n",
       "    <tr>\n",
       "      <th>0</th>\n",
       "      <td>False</td>\n",
       "      <td>False</td>\n",
       "      <td>True</td>\n",
       "      <td>False</td>\n",
       "      <td>False</td>\n",
       "    </tr>\n",
       "    <tr>\n",
       "      <th>1</th>\n",
       "      <td>False</td>\n",
       "      <td>False</td>\n",
       "      <td>False</td>\n",
       "      <td>False</td>\n",
       "      <td>False</td>\n",
       "    </tr>\n",
       "    <tr>\n",
       "      <th>2</th>\n",
       "      <td>False</td>\n",
       "      <td>False</td>\n",
       "      <td>False</td>\n",
       "      <td>False</td>\n",
       "      <td>False</td>\n",
       "    </tr>\n",
       "    <tr>\n",
       "      <th>3</th>\n",
       "      <td>False</td>\n",
       "      <td>False</td>\n",
       "      <td>False</td>\n",
       "      <td>False</td>\n",
       "      <td>False</td>\n",
       "    </tr>\n",
       "    <tr>\n",
       "      <th>4</th>\n",
       "      <td>False</td>\n",
       "      <td>False</td>\n",
       "      <td>False</td>\n",
       "      <td>False</td>\n",
       "      <td>False</td>\n",
       "    </tr>\n",
       "    <tr>\n",
       "      <th>5</th>\n",
       "      <td>False</td>\n",
       "      <td>False</td>\n",
       "      <td>False</td>\n",
       "      <td>False</td>\n",
       "      <td>False</td>\n",
       "    </tr>\n",
       "    <tr>\n",
       "      <th>6</th>\n",
       "      <td>False</td>\n",
       "      <td>False</td>\n",
       "      <td>False</td>\n",
       "      <td>False</td>\n",
       "      <td>False</td>\n",
       "    </tr>\n",
       "    <tr>\n",
       "      <th>7</th>\n",
       "      <td>False</td>\n",
       "      <td>False</td>\n",
       "      <td>False</td>\n",
       "      <td>False</td>\n",
       "      <td>False</td>\n",
       "    </tr>\n",
       "    <tr>\n",
       "      <th>8</th>\n",
       "      <td>False</td>\n",
       "      <td>False</td>\n",
       "      <td>False</td>\n",
       "      <td>False</td>\n",
       "      <td>False</td>\n",
       "    </tr>\n",
       "    <tr>\n",
       "      <th>9</th>\n",
       "      <td>False</td>\n",
       "      <td>False</td>\n",
       "      <td>False</td>\n",
       "      <td>False</td>\n",
       "      <td>False</td>\n",
       "    </tr>\n",
       "    <tr>\n",
       "      <th>10</th>\n",
       "      <td>False</td>\n",
       "      <td>False</td>\n",
       "      <td>False</td>\n",
       "      <td>False</td>\n",
       "      <td>False</td>\n",
       "    </tr>\n",
       "  </tbody>\n",
       "</table>\n",
       "</div>"
      ],
      "text/plain": [
       "    Product Name  Product Category  Unit Sold  Price  Product_category\n",
       "0          False             False       True  False             False\n",
       "1          False             False      False  False             False\n",
       "2          False             False      False  False             False\n",
       "3          False             False      False  False             False\n",
       "4          False             False      False  False             False\n",
       "5          False             False      False  False             False\n",
       "6          False             False      False  False             False\n",
       "7          False             False      False  False             False\n",
       "8          False             False      False  False             False\n",
       "9          False             False      False  False             False\n",
       "10         False             False      False  False             False"
      ]
     },
     "execution_count": 10,
     "metadata": {},
     "output_type": "execute_result"
    }
   ],
   "source": [
    "# Number of unique product categories are present in the DataFrame\n",
    "\n",
    "df = pd.DataFrame(product_dict)\n",
    "\n",
    "product_dict[\"Product_category\"] = ['Fashion', 'Fashion', 'Fashion', 'Furniture', 'Fashion', 'Furniture','Furniture','Furniture','Electronics', 'Fashion', 'Electronics']\n",
    "pd.DataFrame(product_dict) == df[\"Product_category\"].nunique()"
   ]
  },
  {
   "cell_type": "code",
   "execution_count": 11,
   "id": "7e461a1f",
   "metadata": {},
   "outputs": [
    {
     "name": "stdout",
     "output_type": "stream",
     "text": [
      "The category with the most products sold is: Fashion\n"
     ]
    }
   ],
   "source": [
    "# Category with the most product sold\n",
    "\n",
    "product_dict = {\"Product Name\":\n",
    "                ['footwear', 'eyewear','bags','table','ear ring','chair','couch','bed frame', 'TV','Sunglass','refrigirator'],\n",
    "               \"Product Category\":\n",
    "                ['Fashion', 'Fashion', 'Fashion', 'Furniture', 'Fashion', 'Furniture','Furniture','Furniture','Electronics', 'Fashion', 'Electronics'],\n",
    "               \"Unit Sold\":[3,4,2,6,4,5,2,1,8, 8,7],\n",
    "               \"Price\":[10,5,7,15,20,17,23,29,54,6,60]}\n",
    "\n",
    "\n",
    "df = pd.DataFrame(product_dict)\n",
    "\n",
    "category_sales = df.groupby('Product Category')['Unit Sold'].sum()\n",
    "\n",
    "most_sold_category = category_sales.idxmax()\n",
    "\n",
    "print(f'The category with the most products sold is: {most_sold_category}')\n"
   ]
  },
  {
   "cell_type": "code",
   "execution_count": 5,
   "id": "cd458d42",
   "metadata": {},
   "outputs": [
    {
     "name": "stdout",
     "output_type": "stream",
     "text": [
      "    Product Name Product Category  Unit Sold  Price  Least_Price\n",
      "0       footwear          Fashion          3     10      Fashion\n",
      "1        eyewear          Fashion          4      5      Fashion\n",
      "2           bags          Fashion          2      7      Fashion\n",
      "3          table        Furniture          6     15    Furniture\n",
      "4       ear ring          Fashion          4     20      Fashion\n",
      "5          chair        Furniture          5     17    Furniture\n",
      "6          couch        Furniture          2     23    Furniture\n",
      "7      bed frame        Furniture          1     29    Furniture\n",
      "8             TV      Electronics          8     54  Electronics\n",
      "9       Sunglass          Fashion          8      6      Fashion\n",
      "10  refrigirator      Electronics          7     60  Electronics\n"
     ]
    }
   ],
   "source": [
    "# 5a least Price you can expect to get a product from Ali & Johnson\n",
    "\n",
    "\n",
    "df = pd.DataFrame(product_dict)\n",
    "\n",
    "category_sales = df.groupby('Product Category')['Unit Sold'].sum()\n",
    "\n",
    "least_price = category_sales.idxmin()\n",
    "\n",
    "df['Least_Price'] = df[['Product Category']].min(axis=1)\n",
    "print(df)\n",
    "\n",
    "#print(f'The least price from Ali & Johnson is: ${least_price}')\n"
   ]
  },
  {
   "cell_type": "code",
   "execution_count": 11,
   "id": "c402c35f",
   "metadata": {},
   "outputs": [
    {
     "name": "stdout",
     "output_type": "stream",
     "text": [
      "   Product Category Least_Price_Product\n",
      "0           Fashion                None\n",
      "1           Fashion             Fashion\n",
      "2           Fashion                None\n",
      "3         Furniture                None\n",
      "4           Fashion                None\n",
      "5         Furniture                None\n",
      "6         Furniture                None\n",
      "7         Furniture                None\n",
      "8       Electronics                None\n",
      "9           Fashion                None\n",
      "10      Electronics                None\n"
     ]
    }
   ],
   "source": [
    "# 5b What product goes for this price?\n",
    "\n",
    "df = pd.DataFrame(product_dict)\n",
    "\n",
    "\n",
    "least_price = category_sales.idxmin()\n",
    "\n",
    "df['Least_Price_Index'] = df['Price'].idxmin(axis=0)\n",
    "\n",
    "df['Least_Price_Product'] = df.apply(lambda row: row['Product Category'] if row.name == row['Least_Price_Index'] else None, axis=1)\n",
    "\n",
    "print(df[['Product Category', 'Least_Price_Product']])\n",
    "\n",
    "#print(f'The product with the least price is: {product_least_price}')"
   ]
  },
  {
   "cell_type": "code",
   "execution_count": 9,
   "id": "f2edff41",
   "metadata": {},
   "outputs": [
    {
     "name": "stdout",
     "output_type": "stream",
     "text": [
      "The totalnumber of products sold during this period is: 50\n"
     ]
    }
   ],
   "source": [
    "# Total number of product sold during this period\n",
    "\n",
    "total_products_sold = df['Unit Sold'].sum()\n",
    "print(f\"The totalnumber of products sold during this period is: {total_products_sold}\")"
   ]
  },
  {
   "cell_type": "code",
   "execution_count": 15,
   "id": "6c311489",
   "metadata": {},
   "outputs": [
    {
     "name": "stdout",
     "output_type": "stream",
     "text": [
      "    Product Name Product Category  Unit Sold  Price  Revenue\n",
      "0       footwear          Fashion          3     10       30\n",
      "1        eyewear          Fashion          4      5       20\n",
      "2           bags          Fashion          2      7       14\n",
      "3          table        Furniture          6     15       90\n",
      "4       ear ring          Fashion          4     20       80\n",
      "5          chair        Furniture          5     17       85\n",
      "6          couch        Furniture          2     23       46\n",
      "7      bed frame        Furniture          1     29       29\n",
      "8             TV      Electronics          8     54      432\n",
      "9       Sunglass          Fashion          8      6       48\n",
      "10  refrigirator      Electronics          7     60      420\n"
     ]
    }
   ],
   "source": [
    "# Create a new field (i.e column) to calculate the revenue generated selling each product. [revenue = price * unit sold]\n",
    "\n",
    "df['Revenue'] = df['Price'] * df['Unit Sold']\n",
    "\n",
    "print(df)"
   ]
  },
  {
   "cell_type": "code",
   "execution_count": 12,
   "id": "fd0eea5e",
   "metadata": {},
   "outputs": [
    {
     "name": "stdout",
     "output_type": "stream",
     "text": [
      "The product category with the highest revenue is: Electronics\n"
     ]
    }
   ],
   "source": [
    "\n",
    "# Assuming df is your DataFrame with the 'Revenue' column\n",
    "# If you haven't added the 'Revenue' column yet, use the previous code to add it.\n",
    "\n",
    "df['Revenue'] = df['Price'] * df['Unit Sold']\n",
    "\n",
    "\n",
    "# Product category that generated the highest revenue\n",
    "max_revenue_category = df.loc[df['Revenue'].idxmax(), 'Product Category']\n",
    "print(f\"The product category with the highest revenue is: {max_revenue_category}\")\n"
   ]
  },
  {
   "cell_type": "code",
   "execution_count": null,
   "id": "27b71afe",
   "metadata": {},
   "outputs": [],
   "source": []
  }
 ],
 "metadata": {
  "kernelspec": {
   "display_name": "Python 3 (ipykernel)",
   "language": "python",
   "name": "python3"
  },
  "language_info": {
   "codemirror_mode": {
    "name": "ipython",
    "version": 3
   },
   "file_extension": ".py",
   "mimetype": "text/x-python",
   "name": "python",
   "nbconvert_exporter": "python",
   "pygments_lexer": "ipython3",
   "version": "3.10.9"
  }
 },
 "nbformat": 4,
 "nbformat_minor": 5
}
