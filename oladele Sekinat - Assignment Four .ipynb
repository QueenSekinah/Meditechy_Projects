{
 "cells": [
  {
   "cell_type": "markdown",
   "id": "5e04fc90",
   "metadata": {},
   "source": [
    "### Exercise 8"
   ]
  },
  {
   "cell_type": "markdown",
   "id": "b98892cd",
   "metadata": {},
   "source": [
    "Write a function called `get_most_frequent_category` that takes a dictionary of product categories and their associated products as input. The function should determine the category with the most products and return the name of that category.\n",
    "\n",
    "Use the data from ALi and Johnson\n",
    "\n",
    "The product categories are `Fashion (footwear, eyewear, bags, jewelry, accessories), Electronics (TV, iron, refrigerator, mixer grinder, washing machine), Health & Wellness (Yoga pants, oil diffuser, razor, reset spray, thermometer), Computer & Accessories (PC, monitor, keyboard, headset, mouse), and Furniture (table, armchair, chair, couch, bed frame).`"
   ]
  },
  {
   "cell_type": "code",
   "execution_count": 17,
   "id": "89b1615d",
   "metadata": {},
   "outputs": [
    {
     "name": "stdout",
     "output_type": "stream",
     "text": [
      "The most frequent category in Ali_Johnson_Superstore is: Fashion\n"
     ]
    }
   ],
   "source": [
    "def get_most_frequent_category(Ali_Johnson_Superstore):\n",
    "    \n",
    "    #Lets define the categories and their associated products\n",
    "   \n",
    "    Ali_Johnson_Superstore = {'Fashion': ['footwear', 'eyewear', 'bags', 'jewelry', 'accessories'], 'Electronics': ['TV', 'iron', 'refrigerator', 'mixer grinder', 'washing machine'], 'Health & Wellness': ['Yoga pants', 'oil diffuser', 'razor', 'reset spray', 'thermometer'], 'Computer & Accessories': ['PC', 'monitor', 'keyboard', 'headset', 'mouse'], 'Furniture': ['table', 'armchair', 'chair', 'couch', 'bed frame']}\n",
    "    \n",
    "    #Create a dictionary to store the count of products\n",
    "    category_counts = {}\n",
    "    \n",
    "    #To count the number of products in each category\n",
    "    for category, products in Ali_Johnson_Superstore.items():\n",
    "        category_counts[category] = len(products)\n",
    "        \n",
    "    #Lets find the category with the maximum counts\n",
    "    get_most_frequent_category = max(category_counts, key=category_counts.get)\n",
    "    \n",
    "    return get_most_frequent_category\n",
    "result = get_most_frequent_category('Ali_Johnson_Superstore')\n",
    "print(\"The most frequent category in Ali_Johnson_Superstore is:\",result)\n",
    "    "
   ]
  },
  {
   "cell_type": "markdown",
   "id": "8a546c17",
   "metadata": {},
   "source": [
    "### Exercise 9"
   ]
  },
  {
   "cell_type": "markdown",
   "id": "6fc09da3",
   "metadata": {},
   "source": [
    "Write a function called `calculate_discounted_price` that takes the __original price__ of a product and a __discount percentage__ as input. The function should calculate and return the discounted price after applying the given discount."
   ]
  },
  {
   "cell_type": "code",
   "execution_count": 21,
   "id": "7fc27cb8",
   "metadata": {},
   "outputs": [
    {
     "name": "stdout",
     "output_type": "stream",
     "text": [
      "Original Price: $100.0\n",
      "Discount Percentage: 20.0%\n",
      "Discounted Price: $80.0\n"
     ]
    }
   ],
   "source": [
    "def calculate_discounted_price(original_price, discount_percentage):\n",
    "    \n",
    "    #Calculate the discounted price after applying the given discount percentage.\n",
    "    if discount_percentage < 0 or discount_percentage > 100:\n",
    "        raise ValueError(\"Discount percentage should be between 0 and 100.\")\n",
    "\n",
    "    discount_amount = (discount_percentage / 100) * original_price\n",
    "    discounted_price = original_price - discount_amount\n",
    "\n",
    "    return discounted_price\n",
    "\n",
    "original_price = 100.0\n",
    "discount_percentage = 20.0\n",
    "discounted_price = calculate_discounted_price(original_price, discount_percentage)\n",
    "print(f\"Original Price: ${original_price}\")\n",
    "print(f\"Discount Percentage: {discount_percentage}%\")\n",
    "print(f\"Discounted Price: ${discounted_price}\")\n",
    "    "
   ]
  },
  {
   "cell_type": "markdown",
   "id": "b542bbfb",
   "metadata": {},
   "source": [
    "### Exercise 10"
   ]
  },
  {
   "cell_type": "markdown",
   "id": "4d73da89",
   "metadata": {},
   "source": [
    "Write a function called `check_triangle_type` that takes the lengths of three sides of a triangle as arguments. The function should determine and return the type of the triangle based on its side lengths: __\"Equilateral\"__ if all sides are equal, __\"Isosceles\"__ if two sides are equal, or __\"Scalene\"__ if no sides are equal."
   ]
  },
  {
   "cell_type": "code",
   "execution_count": 3,
   "id": "7c64cab0",
   "metadata": {},
   "outputs": [],
   "source": [
    "def check_triangle_type(side1, side2, side3):\n",
    "    if side1 == side2 == side3:\n",
    "        return \"Equilateral\"\n",
    "    elif side1 == side2 or side2 == side3 or side3 == side1:\n",
    "        return \"Isosceles\"\n",
    "    else:\n",
    "        return \"Scalene\"\n",
    "    "
   ]
  },
  {
   "cell_type": "code",
   "execution_count": 8,
   "id": "4311df97",
   "metadata": {},
   "outputs": [
    {
     "name": "stdout",
     "output_type": "stream",
     "text": [
      "The triangle with side lengths 3, 4, 5 is Scalene.\n"
     ]
    }
   ],
   "source": [
    "#creating a function with a custom side lengths\n",
    "    \n",
    "side_length1 = 3\n",
    "side_length2 = 4\n",
    "side_length3 = 5\n",
    "    \n",
    "triangle_type = check_triangle_type(side_length1, side_length2, side_length3)\n",
    "print(f\"The triangle with side lengths {side_length1}, {side_length2}, {side_length3} is {triangle_type}.\")\n",
    "    "
   ]
  },
  {
   "cell_type": "code",
   "execution_count": 9,
   "id": "73d0bcab",
   "metadata": {},
   "outputs": [
    {
     "name": "stdout",
     "output_type": "stream",
     "text": [
      "The triangle with side lengths 5, 5, 5 is Equilateral.\n"
     ]
    }
   ],
   "source": [
    "# Creating a function with the same side lengths\n",
    "side_length1 = 5\n",
    "side_length2 = 5\n",
    "side_length3 = 5\n",
    "\n",
    "triangle_type = check_triangle_type(side_length1, side_length2, side_length3)\n",
    "print(f\"The triangle with side lengths {side_length1}, {side_length2}, {side_length3} is {triangle_type}.\")\n"
   ]
  },
  {
   "cell_type": "code",
   "execution_count": 10,
   "id": "a9a75499",
   "metadata": {},
   "outputs": [
    {
     "name": "stdout",
     "output_type": "stream",
     "text": [
      "The triangle with side lengths 6, 5, 6 is Isosceles.\n"
     ]
    }
   ],
   "source": [
    "# Creating a function with two side lengths the same\n",
    "side_length1 = 6\n",
    "side_length2 = 5\n",
    "side_length3 = 6\n",
    "\n",
    "triangle_type = check_triangle_type(side_length1, side_length2, side_length3)\n",
    "print(f\"The triangle with side lengths {side_length1}, {side_length2}, {side_length3} is {triangle_type}.\")\n"
   ]
  },
  {
   "cell_type": "code",
   "execution_count": null,
   "id": "3ad4de75",
   "metadata": {},
   "outputs": [],
   "source": []
  }
 ],
 "metadata": {
  "kernelspec": {
   "display_name": "Python 3 (ipykernel)",
   "language": "python",
   "name": "python3"
  },
  "language_info": {
   "codemirror_mode": {
    "name": "ipython",
    "version": 3
   },
   "file_extension": ".py",
   "mimetype": "text/x-python",
   "name": "python",
   "nbconvert_exporter": "python",
   "pygments_lexer": "ipython3",
   "version": "3.10.9"
  }
 },
 "nbformat": 4,
 "nbformat_minor": 5
}
