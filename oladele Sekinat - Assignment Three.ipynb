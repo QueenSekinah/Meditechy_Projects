{
 "cells": [
  {
   "cell_type": "markdown",
   "id": "6d0432a8-d2c2-43ac-894a-18e7388fb9a6",
   "metadata": {},
   "source": [
    "# Exercise 5\n",
    "\n",
    "Obesity is a complex disease involving an excessive amount of body fat. Obesity isn't just a cosmetic concern. It's a medical problem that increases the risk of other diseases and health problems, such as heart disease, diabetes, high blood pressure and certain cancers. One of the most common indicators of detecting obesity is to compute the Body Mass Index (BMI). In order to alert potentially obessed people of their status, you are asked to design a program that prompts the user to enter weight in kg and height in meter square. \n",
    "\n",
    "Compute the BMI from these two parameter. \n",
    "\n",
    "If the BMI is equal to or more than 25, your program should tell them they are overweight.\n",
    "\n",
    "If the value falls between 18.5 and 24.9, the weight is considered normal. \n",
    "\n",
    "If the value is not up to 18, then they are underweight."
   ]
  },
  {
   "cell_type": "code",
   "execution_count": 1,
   "id": "0d565c72",
   "metadata": {
    "scrolled": true
   },
   "outputs": [
    {
     "name": "stdout",
     "output_type": "stream",
     "text": [
      "30\n",
      "20.5\n",
      "They are underweight\n"
     ]
    }
   ],
   "source": [
    "# Assuming weight is in kilograms and height is in meters\n",
    "weight = float(input()) \n",
    "height = float(input())\n",
    "\n",
    "# Calculate BMI\n",
    "bmi = round(weight / (height ** 2), 2)\n",
    "\n",
    "# Check BMI and provide feedback\n",
    "if bmi >= 25:\n",
    "    print(\"They are overweight\")\n",
    "elif 18.5 <= bmi <= 24.9:\n",
    "    print(\"They have a normal weight\")\n",
    "else:\n",
    "    print(\"They are underweight\")\n"
   ]
  },
  {
   "cell_type": "markdown",
   "id": "1f51b235-32f4-4cf9-8f2f-0bff279227ff",
   "metadata": {},
   "source": [
    "# Exercise 6\n",
    "\n",
    "According to building regulatory plocies in the country, a lecture theatre is not supposed to hold more than 1000 occupants at a time. Write a program that determines whether a school is in violation of this regulations regarding the maximum theatre capacity. The program will read in the number of people to attend the lecture. If the number of people is less \n",
    "than or equal to the maximum capacity, the program announces that it is legal to \n",
    "hold the lecture and tells how many additional people may legally attend. If the number \n",
    "of people exceeds the maximum theatre capacity, the program announces that the lecture \n",
    "cannot be held as planned due to regulations and tells how many people must be \n",
    "excluded in order to meet the regulatory policies."
   ]
  },
  {
   "cell_type": "code",
   "execution_count": 10,
   "id": "f22bab65",
   "metadata": {},
   "outputs": [
    {
     "name": "stdout",
     "output_type": "stream",
     "text": [
      "1000560\n",
      "It is legal to hold the lecture. You may have 440 additional people.\n"
     ]
    }
   ],
   "source": [
    "# Lecture theatre maximum capacity \n",
    "max_capacity = 1000\n",
    "\n",
    "# Number of people required to attend the lecture\n",
    "\n",
    "num_of_people = int(input(1000))\n",
    "\n",
    "# Check if the number of people is within the legal capacity\n",
    "\n",
    "if num_of_people <= max_capacity:\n",
    "     additional_people_allowed = max_capacity - num_of_people\n",
    "     print(f\"It is legal to hold the lecture. You may have {additional_people_allowed} additional people.\")\n",
    "else:\n",
    "     people_exceeding_capacity = num_of_people - max_capacity\n",
    "     print(f\"The lecture cannot be held as planned due to regulations. Exclude {people_exceeding_capacity} people to meet the regulatory policies.\")\n",
    "    "
   ]
  },
  {
   "cell_type": "markdown",
   "id": "9525f88e-7cc6-483b-b851-517e89518de6",
   "metadata": {},
   "source": [
    "# Exercise 7\n",
    "\n",
    "Using your data from Ali & Johnson, the store owner wishes to see the products with names longer than 5 letters. Use your skill of iteration and branching to search for this products and print out their names as well as the number of letters in them"
   ]
  },
  {
   "cell_type": "code",
   "execution_count": 11,
   "id": "0c97da9e-a8de-479a-a455-0dae2b246db4",
   "metadata": {},
   "outputs": [
    {
     "name": "stdout",
     "output_type": "stream",
     "text": [
      "\n",
      "Category: Fashion\n",
      "Product: footwear, Letters: 8\n",
      "Product: eyewear, Letters: 7\n",
      "Product: jewelry, Letters: 7\n",
      "Product: accessories, Letters: 11\n",
      "Product: wristwatches, Letters: 12\n",
      "\n",
      "Category: Electronics\n",
      "Product: refrigerator, Letters: 12\n",
      "Product: mixer grinder, Letters: 13\n",
      "Product: washing machine, Letters: 15\n",
      "Product: microwave, Letters: 9\n",
      "Product: gas cooker, Letters: 10\n",
      "Product: iron stand, Letters: 10\n",
      "\n",
      "Category: Health & Wellness\n",
      "Product: Yoga pants, Letters: 10\n",
      "Product: oil diffuser, Letters: 12\n",
      "Product: reset spray, Letters: 11\n",
      "Product: thermometer, Letters: 11\n",
      "\n",
      "Category: Computer & Accessories\n",
      "Product: monitor, Letters: 7\n",
      "Product: keyboard, Letters: 8\n",
      "Product: headset, Letters: 7\n",
      "\n",
      "Category: Furniture\n",
      "Product: armchair, Letters: 8\n"
     ]
    }
   ],
   "source": [
    "Ali_Johnson_Superstore = {'Fashion': ['footwear', 'eyewear', 'bags', 'jewelry', 'accessories', 'Shoes', 'wristwatches', 'hijab'], 'Electronics': ['TV', 'iron', 'refrigerator', 'mixer grinder', 'washing machine', 'microwave', 'gas cooker', 'iron stand'], 'Health & Wellness': ['Yoga pants', 'oil diffuser', 'razor', 'reset spray', 'thermometer'], 'Computer & Accessories': ['PC', 'monitor', 'keyboard', 'headset', 'mouse'], 'Furniture': ['table', 'armchair', 'chair', 'couch', 'bed', 'frame']}\n",
    "\n",
    "# Iterate through each category and product\n",
    "for category, products in Ali_Johnson_Superstore.items():\n",
    "    print(f\"\\nCategory: {category}\")\n",
    "    for product in products:\n",
    "# Check if the product name has more than 5 letters\n",
    "        if len(product) > 5:\n",
    "            print(f\"Product: {product}, Letters: {len(product)}\")"
   ]
  },
  {
   "cell_type": "code",
   "execution_count": null,
   "id": "2e142754",
   "metadata": {},
   "outputs": [],
   "source": []
  }
 ],
 "metadata": {
  "kernelspec": {
   "display_name": "Python 3 (ipykernel)",
   "language": "python",
   "name": "python3"
  },
  "language_info": {
   "codemirror_mode": {
    "name": "ipython",
    "version": 3
   },
   "file_extension": ".py",
   "mimetype": "text/x-python",
   "name": "python",
   "nbconvert_exporter": "python",
   "pygments_lexer": "ipython3",
   "version": "3.10.9"
  }
 },
 "nbformat": 4,
 "nbformat_minor": 5
}
