{
 "cells": [
  {
   "cell_type": "markdown",
   "id": "acf351fc",
   "metadata": {},
   "source": [
    "### Numpy Drill -- DIY"
   ]
  },
  {
   "cell_type": "code",
   "execution_count": 1,
   "id": "b422cca3",
   "metadata": {},
   "outputs": [],
   "source": [
    "# Uncomment the next line if you need install numpy\n",
    "# !pip install numpy --upgrade"
   ]
  },
  {
   "cell_type": "markdown",
   "id": "2be9ab60",
   "metadata": {},
   "source": [
    "#### 1. Import the numpy package under the name `np` "
   ]
  },
  {
   "cell_type": "code",
   "execution_count": 1,
   "id": "ac903004",
   "metadata": {},
   "outputs": [],
   "source": [
    "import numpy as np"
   ]
  },
  {
   "cell_type": "markdown",
   "id": "3480340c",
   "metadata": {},
   "source": [
    "#### 2. Create a null vector of size 10"
   ]
  },
  {
   "cell_type": "code",
   "execution_count": 2,
   "id": "15fc52af",
   "metadata": {},
   "outputs": [
    {
     "name": "stdout",
     "output_type": "stream",
     "text": [
      "[0. 0. 0. 0. 0. 0. 0. 0. 0. 0.]\n"
     ]
    }
   ],
   "source": [
    "null_vector = np.zeros(10)\n",
    "\n",
    "print(null_vector)"
   ]
  },
  {
   "cell_type": "markdown",
   "id": "fe050835",
   "metadata": {},
   "source": [
    "#### 3. Create a vector with values ranging from 10 to 30 "
   ]
  },
  {
   "cell_type": "code",
   "execution_count": 3,
   "id": "fc7f6e69",
   "metadata": {},
   "outputs": [
    {
     "name": "stdout",
     "output_type": "stream",
     "text": [
      "[10 11 12 13 14 15 16 17 18 19 20 21 22 23 24 25 26 27 28 29 30]\n"
     ]
    }
   ],
   "source": [
    "vector_range = np.arange(10, 31)\n",
    "\n",
    "print(vector_range)"
   ]
  },
  {
   "cell_type": "markdown",
   "id": "44aa2cb9",
   "metadata": {},
   "source": [
    "#### 4. Reverse a vector (first element becomes last)"
   ]
  },
  {
   "cell_type": "code",
   "execution_count": 5,
   "id": "2e88a6c2",
   "metadata": {},
   "outputs": [
    {
     "name": "stdout",
     "output_type": "stream",
     "text": [
      "[30 29 28 27 26 25 24 23 22 21 20 19 18 17 16 15 14 13 12 11 10]\n"
     ]
    }
   ],
   "source": [
    "vector_range = np.arange(10, 31)\n",
    "\n",
    "# to reverse which is same as slicing we have\n",
    "\n",
    "reversed_vector = vector_range[: :-1]\n",
    "\n",
    "print(reversed_vector)"
   ]
  },
  {
   "cell_type": "markdown",
   "id": "d998a721",
   "metadata": {},
   "source": [
    "#### 5. Create a 3x3 matrix with values ranging from 0 to 8 "
   ]
  },
  {
   "cell_type": "code",
   "execution_count": 6,
   "id": "fb466704",
   "metadata": {},
   "outputs": [
    {
     "name": "stdout",
     "output_type": "stream",
     "text": [
      "[[0 1 2]\n",
      " [3 4 5]\n",
      " [6 7 8]]\n"
     ]
    }
   ],
   "source": [
    "matrix = np.arange(9).reshape((3, 3))\n",
    "\n",
    "print(matrix)"
   ]
  },
  {
   "cell_type": "markdown",
   "id": "cc9ad5e1",
   "metadata": {},
   "source": [
    "#### 6. Create a 10x10 array with random values and find the minimum and maximum values"
   ]
  },
  {
   "cell_type": "code",
   "execution_count": 9,
   "id": "16d3b475",
   "metadata": {},
   "outputs": [
    {
     "name": "stdout",
     "output_type": "stream",
     "text": [
      "Random Array:\n",
      "[[0.27415961 0.399695   0.64302462 0.51626087 0.3484035  0.05507825\n",
      "  0.14291096 0.52730183 0.7302613  0.19450233]\n",
      " [0.05824158 0.94220821 0.50762317 0.00472717 0.94214535 0.35520972\n",
      "  0.24419277 0.40137798 0.9481573  0.351641  ]\n",
      " [0.87910769 0.82184233 0.73903921 0.51166913 0.60826708 0.09141714\n",
      "  0.62756786 0.83038343 0.73745725 0.50090494]\n",
      " [0.93099399 0.37213691 0.61999116 0.44806277 0.27196589 0.86651141\n",
      "  0.80258533 0.07494921 0.71772215 0.35682688]\n",
      " [0.93549715 0.64088759 0.17530698 0.57847342 0.77935836 0.92502295\n",
      "  0.23643616 0.34274737 0.74907589 0.16064217]\n",
      " [0.56443949 0.15046132 0.49520555 0.65289606 0.47184548 0.74276531\n",
      "  0.59197834 0.94953387 0.45836722 0.76404719]\n",
      " [0.76200192 0.60764146 0.83771073 0.16830131 0.35912077 0.61746507\n",
      "  0.18692474 0.82254138 0.93976354 0.10380298]\n",
      " [0.55129563 0.89961466 0.53866088 0.51769338 0.99481667 0.48400806\n",
      "  0.84407521 0.85367469 0.06186423 0.96224404]\n",
      " [0.66672656 0.77028924 0.95886316 0.34425791 0.22479026 0.59419453\n",
      "  0.26983221 0.79282841 0.07432116 0.9162434 ]\n",
      " [0.26394997 0.1493206  0.0138859  0.31434559 0.1165499  0.12305513\n",
      "  0.56196292 0.91530517 0.37440305 0.21666119]]\n",
      "\n",
      "Minimum Value: 0.004727165692733792\n",
      "Maximum Value: 0.994816666978235\n"
     ]
    }
   ],
   "source": [
    "random_array = np.random.rand(10, 10)\n",
    "\n",
    "# Find the minimum and maximum values\n",
    "min_value = np.min(random_array)\n",
    "max_value = np.max(random_array)\n",
    "\n",
    "print(\"Random Array:\")\n",
    "print(random_array)\n",
    "print(\"\\nMinimum Value:\", min_value)\n",
    "print(\"Maximum Value:\", max_value)"
   ]
  },
  {
   "cell_type": "markdown",
   "id": "61e0a919",
   "metadata": {},
   "source": [
    "#### 7. Create random vector of size 10 and replace the maximum value by 0"
   ]
  },
  {
   "cell_type": "code",
   "execution_count": 13,
   "id": "fab72c84",
   "metadata": {},
   "outputs": [
    {
     "name": "stdout",
     "output_type": "stream",
     "text": [
      "Original Random Vector:\n",
      "[0.13264549 0.17985811 0.49557928 0.08801535 0.         0.36472619\n",
      " 0.35339901 0.44870495 0.56192674 0.57151969]\n"
     ]
    }
   ],
   "source": [
    "random_vector = np.random.rand(10)\n",
    "\n",
    "#find the value for the maximum value\n",
    "max_value = np.argmax(random_vector)\n",
    "\n",
    "#Replace the maximum value with 0\n",
    "random_vector[max_value] = 0\n",
    "\n",
    "# Display the original and replaced vectors\n",
    "print(\"Original Random Vector:\")\n",
    "print(random_vector)"
   ]
  },
  {
   "cell_type": "markdown",
   "id": "4033390b",
   "metadata": {},
   "source": [
    "#### 8. Create an array and find the most frequent value in the array"
   ]
  },
  {
   "cell_type": "code",
   "execution_count": 16,
   "id": "71f9b33a",
   "metadata": {},
   "outputs": [
    {
     "name": "stdout",
     "output_type": "stream",
     "text": [
      "Array: [1 2 2 3 4 4 4 5 5 5 5 5]\n",
      "Most Frequent Value: 5\n"
     ]
    }
   ],
   "source": [
    "an_array = np.array([1, 2, 2, 3, 4, 4, 4, 5, 5, 5, 5, 5])\n",
    "\n",
    "# Find the most frequent value\n",
    "most_frequent_value = np.bincount(an_array).argmax()\n",
    "\n",
    "print(\"Array:\", an_array)\n",
    "print(\"Most Frequent Value:\", most_frequent_value )"
   ]
  },
  {
   "cell_type": "markdown",
   "id": "e41fbe69",
   "metadata": {},
   "source": [
    "#### 9. Find the total value of the elements in the array created in 8"
   ]
  },
  {
   "cell_type": "code",
   "execution_count": 18,
   "id": "09dea457",
   "metadata": {},
   "outputs": [
    {
     "name": "stdout",
     "output_type": "stream",
     "text": [
      "Array: [1 2 2 3 4 4 4 5 5 5 5 5]\n",
      "Total Value: 45\n"
     ]
    }
   ],
   "source": [
    "an_array = np.array([1, 2, 2, 3, 4, 4, 4, 5, 5, 5, 5, 5])\n",
    "\n",
    "#Total value of the above\n",
    "total_value = np.sum(an_array)\n",
    "\n",
    "print(\"Array:\", an_array)\n",
    "print(\"Total Value:\", total_value)"
   ]
  },
  {
   "cell_type": "markdown",
   "id": "4c3be93c",
   "metadata": {},
   "source": [
    "#### 9. Add 3 to every element of the array created in 8 and find the lowest value in the resulting array"
   ]
  },
  {
   "cell_type": "code",
   "execution_count": 19,
   "id": "8dcef00b",
   "metadata": {},
   "outputs": [
    {
     "name": "stdout",
     "output_type": "stream",
     "text": [
      "Original Array: [1 2 2 3 4 4 4 5 5 5 5 5]\n",
      "Updated Array: [4 5 5 6 7 7 7 8 8 8 8 8]\n",
      "Lowest Value in the Updated Array: 4\n"
     ]
    }
   ],
   "source": [
    "an_array = np.array([1, 2, 2, 3, 4, 4, 4, 5, 5, 5, 5, 5])\n",
    "\n",
    "# Add 3 to every element\n",
    "updated_array = an_array + 3\n",
    "\n",
    "# Find the lowest value in the updated array\n",
    "lowest_value = np.min(updated_array)\n",
    "\n",
    "print(\"Original Array:\", an_array)\n",
    "print(\"Updated Array:\", updated_array)\n",
    "print(\"Lowest Value in the Updated Array:\", lowest_value)"
   ]
  },
  {
   "cell_type": "markdown",
   "id": "58ea3797",
   "metadata": {},
   "source": [
    "#### 10. Create an array and find the most frequent value in the array"
   ]
  },
  {
   "cell_type": "code",
   "execution_count": 23,
   "id": "e16506d5",
   "metadata": {},
   "outputs": [
    {
     "name": "stdout",
     "output_type": "stream",
     "text": [
      "Array: [3 3 3 4 4 4 5 5 6 6 6 7 7 7 7 7 7 7 8]\n",
      "Most Frequent Value: 7\n"
     ]
    }
   ],
   "source": [
    "my_array = np.array([3,3,3,4,4,4,5,5,6,6,6,7,7,7,7,7,7,7,8])\n",
    "\n",
    "# Find the most frequent value\n",
    "most_frequent_value = np.bincount(my_array).argmax()\n",
    "\n",
    "print(\"Array:\", my_array)\n",
    "print(\"Most Frequent Value:\", most_frequent_value )"
   ]
  },
  {
   "cell_type": "markdown",
   "id": "650ecb68",
   "metadata": {},
   "source": [
    "The array below represents the distance covered by racers in meters"
   ]
  },
  {
   "cell_type": "code",
   "execution_count": 3,
   "id": "275fe0e8",
   "metadata": {
    "scrolled": true
   },
   "outputs": [
    {
     "name": "stdout",
     "output_type": "stream",
     "text": [
      "[440 429 203 499 532 338 425 355 399 216 283 500 430 202 207 387 270 280\n",
      " 416 368 436 360 305 291 349 472 544 285 521 467]\n"
     ]
    }
   ],
   "source": [
    "distance_covered = np.random.randint(200, 550, 30)\n",
    "#print(distance_covered)"
   ]
  },
  {
   "cell_type": "markdown",
   "id": "999abb50",
   "metadata": {},
   "source": [
    "#### 11. What is the average distance covered by the racers? "
   ]
  },
  {
   "cell_type": "code",
   "execution_count": 30,
   "id": "8d7f5277",
   "metadata": {},
   "outputs": [
    {
     "name": "stdout",
     "output_type": "stream",
     "text": [
      "Distances covered by racers in meters: [440, 429, 203, 499, 532, 338, 425, 355, 399, 216, 283, 500, 430, 202, 207, 387, 270, 280, 416, 368, 436, 360, 305, 291, 349, 472, 544, 285, 521, 467]\n",
      "Average Distance: 373.6333333333333\n"
     ]
    }
   ],
   "source": [
    "distances = [440, 429, 203, 499, 532, 338, 425, 355, 399, 216, 283, 500, 430, 202, 207, 387, 270, 280, 416, 368, 436, 360, 305, 291, 349, 472, 544, 285, 521, 467]\n",
    "\n",
    "# The average distance\n",
    "average_distance = np.mean(distances)\n",
    "\n",
    "print(\"Distances covered by racers in meters:\", distances)\n",
    "print(\"Average Distance:\", average_distance)"
   ]
  },
  {
   "cell_type": "markdown",
   "id": "9f6a0904",
   "metadata": {},
   "source": [
    "#### 11. What is the total distance covered in `kilometers`?"
   ]
  },
  {
   "cell_type": "code",
   "execution_count": 31,
   "id": "5a6d92a7",
   "metadata": {},
   "outputs": [
    {
     "name": "stdout",
     "output_type": "stream",
     "text": [
      "Distances covered by racers in meters: [440, 429, 203, 499, 532, 338, 425, 355, 399, 216, 283, 500, 430, 202, 207, 387, 270, 280, 416, 368, 436, 360, 305, 291, 349, 472, 544, 285, 521, 467]\n",
      "Distances covered by racers in kilometers: [0.44  0.429 0.203 0.499 0.532 0.338 0.425 0.355 0.399 0.216 0.283 0.5\n",
      " 0.43  0.202 0.207 0.387 0.27  0.28  0.416 0.368 0.436 0.36  0.305 0.291\n",
      " 0.349 0.472 0.544 0.285 0.521 0.467]\n",
      "Total Distance in kilometers: 11.209000000000001\n"
     ]
    }
   ],
   "source": [
    "distances_in_meters = [440, 429, 203, 499, 532, 338, 425, 355, 399, 216, 283, 500, 430, 202, 207, 387, 270, 280, 416, 368, 436, 360, 305, 291, 349, 472, 544, 285, 521, 467]\n",
    "\n",
    "# Convert to kilometers\n",
    "distances_in_kilometers = np.array(distances_in_meters) / 1000\n",
    "\n",
    "# Calculate total distance in kilometers\n",
    "total_distance_in_kilometers = np.sum(distances_in_kilometers)\n",
    "\n",
    "print(\"Distances covered by racers in meters:\", distances_in_meters)\n",
    "print(\"Distances covered by racers in kilometers:\", distances_in_kilometers)\n",
    "print(\"Total Distance in kilometers:\", total_distance_in_kilometers)"
   ]
  },
  {
   "cell_type": "markdown",
   "id": "b5fa1979",
   "metadata": {},
   "source": [
    "#### 12. How many meter is covered by the racer with the lowest distance travelled?"
   ]
  },
  {
   "cell_type": "code",
   "execution_count": 32,
   "id": "8bbd9229",
   "metadata": {},
   "outputs": [
    {
     "name": "stdout",
     "output_type": "stream",
     "text": [
      "Distances covered by racers in meters: [440, 429, 203, 499, 532, 338, 425, 355, 399, 216, 283, 500, 430, 202, 207, 387, 270, 280, 416, 368, 436, 360, 305, 291, 349, 472, 544, 285, 521, 467]\n",
      "Minimum Distance Covered in meters: 202\n"
     ]
    }
   ],
   "source": [
    "distances_in_meters = [440, 429, 203, 499, 532, 338, 425, 355, 399, 216, 283, 500, 430, 202, 207, 387, 270, 280, 416, 368, 436, 360, 305, 291, 349, 472, 544, 285, 521, 467]\n",
    "\n",
    "# Find the index of the minimum distance\n",
    "index_of_min_distance = np.argmin(distances_in_meters)\n",
    "min_distance_covered = distances_in_meters[index_of_min_distance]\n",
    "\n",
    "print(\"Distances covered by racers in meters:\", distances_in_meters)\n",
    "print(\"Minimum Distance Covered in meters:\", min_distance_covered)"
   ]
  },
  {
   "cell_type": "markdown",
   "id": "6a7fbbe1",
   "metadata": {},
   "source": [
    "#### 13. How many racers are included altogether?"
   ]
  },
  {
   "cell_type": "code",
   "execution_count": 33,
   "id": "d4ed640d",
   "metadata": {},
   "outputs": [
    {
     "name": "stdout",
     "output_type": "stream",
     "text": [
      "Total number of racers: 30\n"
     ]
    }
   ],
   "source": [
    "distances_in_meters = [440, 429, 203, 499, 532, 338, 425, 355, 399, 216, 283, 500, 430, 202, 207, 387, 270, 280, 416, 368, 436, 360, 305, 291, 349, 472, 544, 285, 521, 467]\n",
    "\n",
    "# Calculating the total number of racers\n",
    "total_racers = len(distances_in_meters)\n",
    "\n",
    "print(\"Total number of racers:\", total_racers)"
   ]
  },
  {
   "cell_type": "markdown",
   "id": "63fd09e5",
   "metadata": {},
   "source": [
    "#### 14. Given the average time travelled as 85 minutes, callute the speed travelled by the respective racer in `Km/hr`"
   ]
  },
  {
   "cell_type": "code",
   "execution_count": 34,
   "id": "c86a0c63",
   "metadata": {},
   "outputs": [
    {
     "name": "stdout",
     "output_type": "stream",
     "text": [
      "Distances covered by racers in kilometers: [0.44, 0.429, 0.203, 0.499, 0.532, 0.338, 0.425, 0.355, 0.399, 0.216, 0.283, 0.5, 0.43, 0.202, 0.207, 0.387, 0.27, 0.28, 0.416, 0.368, 0.436, 0.36, 0.305, 0.291, 0.349, 0.472, 0.544, 0.285, 0.521, 0.467]\n",
      "Average Time Traveled in hours: 1.4166666666666667\n",
      "Speeds of each racer in Km/hr: [0.31058824 0.30282353 0.14329412 0.35223529 0.37552941 0.23858824\n",
      " 0.3        0.25058824 0.28164706 0.15247059 0.19976471 0.35294118\n",
      " 0.30352941 0.14258824 0.14611765 0.27317647 0.19058824 0.19764706\n",
      " 0.29364706 0.25976471 0.30776471 0.25411765 0.21529412 0.20541176\n",
      " 0.24635294 0.33317647 0.384      0.20117647 0.36776471 0.32964706]\n"
     ]
    }
   ],
   "source": [
    "distances_in_kilometers = [0.44 , 0.429,  0.203,  0.499,  0.532,  0.338,  0.425,  0.355,  0.399,  0.216,  0.283,  0.5, \n",
    " 0.43,  0.202,  0.207,  0.387,  0.27,   0.28,   0.416,  0.368,  0.436 , 0.36,   0.305,  0.291, \n",
    " 0.349,  0.472,  0.544,  0.285,  0.521,  0.467]\n",
    "\n",
    "average_time_minutes = 85\n",
    "\n",
    "# Convert average time to hours\n",
    "average_time_hours = average_time_minutes / 60\n",
    "\n",
    "# Calculate speeds for each racer\n",
    "speeds_kph = np.array(distances_in_kilometers) / average_time_hours\n",
    "\n",
    "print(\"Distances covered by racers in kilometers:\", distances_in_kilometers)\n",
    "print(\"Average Time Traveled in hours:\", average_time_hours)\n",
    "print(\"Speeds of each racer in Km/hr:\", speeds_kph)\n"
   ]
  },
  {
   "cell_type": "markdown",
   "id": "41c91915",
   "metadata": {},
   "source": [
    "#### 15. Which racer travelled with the maximum speed?"
   ]
  },
  {
   "cell_type": "code",
   "execution_count": 36,
   "id": "b40900bf",
   "metadata": {},
   "outputs": [
    {
     "name": "stdout",
     "output_type": "stream",
     "text": [
      "Speeds of each racer (in Km/hr): [0.31058824 0.30282353 0.14329412 0.35223529 0.37552941 0.23858824\n",
      " 0.3        0.25058824 0.28164706 0.15247059 0.19976471 0.35294118\n",
      " 0.30352941 0.14258824 0.14611765 0.27317647 0.19058824 0.19764706\n",
      " 0.29364706 0.25976471 0.30776471 0.25411765 0.21529412 0.20541176\n",
      " 0.24635294 0.33317647 0.384      0.20117647 0.36776471 0.32964706]\n",
      "Racer with the maximum speed: 26\n"
     ]
    }
   ],
   "source": [
    "# Find the index of the maximum speed\n",
    "index_of_max_speed = np.argmax(speeds_kph)\n",
    "\n",
    "print(\"Speeds of each racer in Km/hr:\", speeds_kph)\n",
    "print(\"Racer with the maximum speed:\", index_of_max_speed)"
   ]
  },
  {
   "cell_type": "markdown",
   "id": "b12d9249-b0e5-4f0a-95c5-11c0e4909284",
   "metadata": {},
   "source": [
    "__Create a 2D NumPy array named temperatures representing the daily high temperatures (in Celsius) for a week. The array should have 7 rows (days) and 3 columns (morning, afternoon, evening). Calculate the average temperature for each day and each time slot (morning, afternoon, evening).__"
   ]
  },
  {
   "cell_type": "code",
   "execution_count": 37,
   "id": "e94526a3",
   "metadata": {},
   "outputs": [
    {
     "name": "stdout",
     "output_type": "stream",
     "text": [
      "Daily High Temperatures (Celsius):\n",
      " [[25 30 22]\n",
      " [28 32 24]\n",
      " [26 29 21]\n",
      " [24 31 23]\n",
      " [27 33 25]\n",
      " [23 28 20]\n",
      " [22 27 19]]\n",
      "\n",
      "Average Temperature for Each Day:\n",
      " [25.66666667 28.         25.33333333 26.         28.33333333 23.66666667\n",
      " 22.66666667]\n",
      "\n",
      "Average Temperature for Each Time Slot (Morning, Afternoon, Evening):\n",
      " [25. 30. 22.]\n"
     ]
    }
   ],
   "source": [
    "temperatures = np.array([\n",
    "    [25, 30, 22],\n",
    "    [28, 32, 24],\n",
    "    [26, 29, 21],\n",
    "    [24, 31, 23],\n",
    "    [27, 33, 25],\n",
    "    [23, 28, 20],\n",
    "    [22, 27, 19]\n",
    "])\n",
    "\n",
    "# Calculate the average temperature for each day (across columns)\n",
    "average_daily_temperature = np.mean(temperatures, axis=1)\n",
    "\n",
    "# Calculate the average temperature for each time slot (across rows)\n",
    "average_time_slot_temperature = np.mean(temperatures, axis=0)\n",
    "\n",
    "print(\"Daily High Temperatures (Celsius):\\n\", temperatures)\n",
    "print(\"\\nAverage Temperature for Each Day:\\n\", average_daily_temperature)\n",
    "print(\"\\nAverage Temperature for Each Time Slot (Morning, Afternoon, Evening):\\n\", average_time_slot_temperature)\n"
   ]
  },
  {
   "cell_type": "code",
   "execution_count": null,
   "id": "15eab2a5",
   "metadata": {},
   "outputs": [],
   "source": []
  }
 ],
 "metadata": {
  "kernelspec": {
   "display_name": "Python 3 (ipykernel)",
   "language": "python",
   "name": "python3"
  },
  "language_info": {
   "codemirror_mode": {
    "name": "ipython",
    "version": 3
   },
   "file_extension": ".py",
   "mimetype": "text/x-python",
   "name": "python",
   "nbconvert_exporter": "python",
   "pygments_lexer": "ipython3",
   "version": "3.10.9"
  }
 },
 "nbformat": 4,
 "nbformat_minor": 5
}
