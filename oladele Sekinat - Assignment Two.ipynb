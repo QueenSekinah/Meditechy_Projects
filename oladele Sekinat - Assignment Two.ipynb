{
 "cells": [
  {
   "cell_type": "markdown",
   "id": "f5367be0-1907-4302-a37f-a2c5872601cf",
   "metadata": {},
   "source": [
    "### Exercise 3\n",
    "\n",
    "Monte Carlo is a popular football team in your locality. You are recently contracted to handle the data for the team. The team currently comprises of 14 players including the goalkeeper. Your first few tasks as the lead data personnel is outlined below;\n",
    "\n",
    "1. Write a program to store the names of the players using __Python list__. The names are `Coby, Thompson,Tyler, May, Columbia, Zack, Stevens, Olly, Dean, Aleksander, Baker, Josh, Wood, Cole.`\n",
    "2. A new player named \"Silva\" joins the team three weeks after, document this by adding the new player to the list. Communicate to the team the total number of the players altogether (use `Print()` and `len()`)\n",
    "3. While documenting the names of the players, the team scribe/secretary entered a name erroneously and instead of 'Colombus', he wrote \"Columbia\"; __correct__ this by changing the entry from \"Columbia\" to \"Columbus\".\n",
    "4. Another two new players join the team few months later, __update__ the list to include the two new members.\n",
    "5. In order to make a befitting team Jersey, you are asked to provide the names of the team members in __alphabetical order.__\n",
    "6. It is transfer period; the transfer deal of the player at position 7 is concluded and he is set to leave the team; update the team list to __exlude__ this player since he's no longer part of the team. Communicate the total number of the players left in the team."
   ]
  },
  {
   "cell_type": "code",
   "execution_count": 13,
   "id": "626f69d6",
   "metadata": {},
   "outputs": [
    {
     "name": "stdout",
     "output_type": "stream",
     "text": [
      "['Coby', 'Thompson', 'Tyler', 'May', 'Columbia', 'Zack', 'Stevens', 'Olly', 'Dean', 'Aleksander', 'Baker', 'Josh', 'Wood', 'Cole']\n"
     ]
    }
   ],
   "source": [
    "#User input for the team list\n",
    "Football_Team = ('Monte Carlo') \n",
    "Monte_Carlo = ['Coby','Thompson','Tyler', 'May','Columbia','Zack','Stevens','Olly','Dean','Aleksander','Baker','Josh','Wood','Cole'] \n",
    "print(Monte_Carlo)\n"
   ]
  },
  {
   "cell_type": "code",
   "execution_count": 14,
   "id": "39b4a468",
   "metadata": {},
   "outputs": [
    {
     "name": "stdout",
     "output_type": "stream",
     "text": [
      "Monte Carlo\n"
     ]
    }
   ],
   "source": [
    "print(Football_Team)"
   ]
  },
  {
   "cell_type": "code",
   "execution_count": 16,
   "id": "ffc75895",
   "metadata": {},
   "outputs": [
    {
     "name": "stdout",
     "output_type": "stream",
     "text": [
      "['Coby', 'Thompson', 'Tyler', 'May', 'Columbia', 'Zack', 'Stevens', 'Olly', 'Dean', 'Aleksander', 'Baker', 'Josh', 'Wood', 'Cole', 'Silva']\n"
     ]
    }
   ],
   "source": [
    "Monte_Carlo.append('Silva')\n",
    "print(Monte_Carlo)"
   ]
  },
  {
   "cell_type": "code",
   "execution_count": 20,
   "id": "9a8aa0f0",
   "metadata": {},
   "outputs": [
    {
     "name": "stdout",
     "output_type": "stream",
     "text": [
      "11\n"
     ]
    }
   ],
   "source": [
    "print(len('Monte_Carlo'))"
   ]
  },
  {
   "cell_type": "code",
   "execution_count": 23,
   "id": "5aab0a93",
   "metadata": {},
   "outputs": [
    {
     "data": {
      "text/plain": [
       "['Coby',\n",
       " 'Thompson',\n",
       " 'Tyler',\n",
       " 'May',\n",
       " 'Colombus',\n",
       " 'Zack',\n",
       " 'Stevens',\n",
       " 'Olly',\n",
       " 'Dean',\n",
       " 'Aleksander',\n",
       " 'Baker',\n",
       " 'Josh',\n",
       " 'Wood',\n",
       " 'Cole',\n",
       " 'Silva']"
      ]
     },
     "execution_count": 23,
     "metadata": {},
     "output_type": "execute_result"
    }
   ],
   "source": [
    "Monte_Carlo[4] = 'Colombus'\n",
    "Monte_Carlo"
   ]
  },
  {
   "cell_type": "code",
   "execution_count": 5,
   "id": "0cd9afe7",
   "metadata": {},
   "outputs": [
    {
     "name": "stdout",
     "output_type": "stream",
     "text": [
      "['Coby', 'Thompson', 'Tyler', 'May', 'Columbia', 'Zack', 'Stevens', 'Olly', 'Dean', 'Aleksander', 'Baker', 'Josh', 'Wood', 'Cole', 'Silva', 'Zainab', 'Hikmoh']\n"
     ]
    }
   ],
   "source": [
    "Monte_Carlo = ['Coby', 'Thompson', 'Tyler', 'May', 'Columbia', 'Zack', 'Stevens', 'Olly', 'Dean', 'Aleksander', 'Baker', 'Josh', 'Wood', 'Cole', 'Silva']\n",
    "Monte_Carlo.extend(['Zainab','Hikmoh'])\n",
    "\n",
    "print(Monte_Carlo)"
   ]
  },
  {
   "cell_type": "code",
   "execution_count": 6,
   "id": "6243a564",
   "metadata": {},
   "outputs": [
    {
     "data": {
      "text/plain": [
       "['Hikmoh',\n",
       " 'Zainab',\n",
       " 'Silva',\n",
       " 'Cole',\n",
       " 'Wood',\n",
       " 'Josh',\n",
       " 'Baker',\n",
       " 'Aleksander',\n",
       " 'Dean',\n",
       " 'Olly',\n",
       " 'Stevens',\n",
       " 'Zack',\n",
       " 'Columbia',\n",
       " 'May',\n",
       " 'Tyler',\n",
       " 'Thompson',\n",
       " 'Coby']"
      ]
     },
     "execution_count": 6,
     "metadata": {},
     "output_type": "execute_result"
    }
   ],
   "source": [
    "Monte_Carlo.reverse()\n",
    "Monte_Carlo"
   ]
  },
  {
   "cell_type": "code",
   "execution_count": 2,
   "id": "413eebca",
   "metadata": {},
   "outputs": [
    {
     "data": {
      "text/plain": [
       "['Aleksander',\n",
       " 'Baker',\n",
       " 'Coby',\n",
       " 'Cole',\n",
       " 'Columbia',\n",
       " 'Dean',\n",
       " 'Hikmoh',\n",
       " 'Josh',\n",
       " 'May',\n",
       " 'Olly',\n",
       " 'Silva',\n",
       " 'Stevens',\n",
       " 'Thompson',\n",
       " 'Tyler',\n",
       " 'Wood',\n",
       " 'Zack',\n",
       " 'Zainab']"
      ]
     },
     "execution_count": 2,
     "metadata": {},
     "output_type": "execute_result"
    }
   ],
   "source": [
    "Monte_Carlo = ['Coby', 'Thompson', 'Tyler', 'May', 'Columbia', 'Zack', 'Stevens', 'Olly', 'Dean', 'Aleksander', 'Baker', 'Josh', 'Wood', 'Cole', 'Silva', 'Zainab', 'Hikmoh']\n",
    "Monte_Carlo.sort()\n",
    "Monte_Carlo"
   ]
  },
  {
   "cell_type": "code",
   "execution_count": 4,
   "id": "93d916ce",
   "metadata": {},
   "outputs": [
    {
     "name": "stdout",
     "output_type": "stream",
     "text": [
      "17\n"
     ]
    }
   ],
   "source": [
    "Monte_Carlo = ['Coby', 'Thompson', 'Tyler', 'May', 'Columbia', 'Zack', 'Stevens', 'Olly', 'Dean', 'Aleksander', 'Baker', 'Josh', 'Wood', 'Cole', 'Silva', 'Zainab', 'Hikmoh']\n",
    "print(len(Monte_Carlo))"
   ]
  },
  {
   "cell_type": "code",
   "execution_count": 6,
   "id": "2e2798e1",
   "metadata": {},
   "outputs": [
    {
     "data": {
      "text/plain": [
       "['Coby',\n",
       " 'Thompson',\n",
       " 'Tyler',\n",
       " 'May',\n",
       " 'Columbia',\n",
       " 'Zack',\n",
       " 'Stevens',\n",
       " 'Dean',\n",
       " 'Aleksander',\n",
       " 'Baker',\n",
       " 'Josh',\n",
       " 'Wood',\n",
       " 'Cole',\n",
       " 'Silva',\n",
       " 'Zainab',\n",
       " 'Hikmoh']"
      ]
     },
     "execution_count": 6,
     "metadata": {},
     "output_type": "execute_result"
    }
   ],
   "source": [
    "Monte_Carlo = ['Coby', 'Thompson', 'Tyler', 'May', 'Columbia', 'Zack', 'Stevens', 'Olly', 'Dean', 'Aleksander', 'Baker', 'Josh', 'Wood', 'Cole', 'Silva', 'Zainab', 'Hikmoh']\n",
    "Monte_Carlo.pop(7)\n",
    "Monte_Carlo"
   ]
  },
  {
   "cell_type": "markdown",
   "id": "5ec56625-36e5-48d3-b9e9-4edb82e94ee0",
   "metadata": {},
   "source": [
    "### Exercise 4\n",
    "\n",
    "Ali & Johnson is an online store that offers a range of products to their customers, you are recently employed as their data guy and your first task is to make the most frequently purchased products organized so that customers can access the products easily. The task is broken down below.\n",
    "1. Using Python dictionary, create five product categories with each category having five products listed under them. The product categories are `Fashion (footwear, eyewear, bags, jewelry, accessories), Electronics (TV, iron, refrigerator, mixer grinder, washing machine), Health & Wellness (Yoga pants, oil diffuser, razor, reset spray, thermometer), Computer & Accessories (PC, monitor, keyboard, headset, mouse), and Furniture (table, armchair, chair, couch, bed frame).`\n",
    "2. Recently, the store observed a zero demand for reset spray, you are asked to remove this product from the store so that they can stock up other.\n",
    "3. The customer care line recieved multiple complaints from the users recently stating that razor blade is not available on the website anytime they attempt to search for it to purchase, it happens that this is represented as just 'razor' in the store, update the data by replacing 'razor' with 'facial razor'.\n",
    "4. Due to the recent surge in demand for certain products in Electronics & Fashion categories, the store would like you to add three new products to these two categories."
   ]
  },
  {
   "cell_type": "code",
   "execution_count": 12,
   "id": "ca189567",
   "metadata": {},
   "outputs": [
    {
     "name": "stdout",
     "output_type": "stream",
     "text": [
      "Ali_Johnson_Superstore\n"
     ]
    }
   ],
   "source": [
    "Ali_Johnson_Superstore = {'Fashion': [\"footwear\", \"eyewear\", \"bags\", \"jewelry\", \"accessories\"], 'Electronics': [\"TV\", \"iron\", \"refrigerator\", \"mixer grinder\", \"washing machine\"], 'Health & Wellness': [\"Yoga pants\", \"oil diffuser\", \"razor\", \"reset spray\", \"thermometer\"],'Computer & Accessories': [\"PC\", \"monitor\", \"keyboard\", \"headset\", \"mouse\"], 'Furniture': [\"table\", \"armchair\", \"chair\", \"couch\", \"bed\", \"frame\"] }\n",
    "print('Ali_Johnson_Superstore')"
   ]
  },
  {
   "cell_type": "code",
   "execution_count": 14,
   "id": "9728104e-aa35-4124-807a-29636e98b241",
   "metadata": {},
   "outputs": [
    {
     "data": {
      "text/plain": [
       "dict_items([('Fashion', ['footwear', 'eyewear', 'bags', 'jewelry', 'accessories']), ('Electronics', ['TV', 'iron', 'refrigerator', 'mixer grinder', 'washing machine']), ('Health & Wellness', ['Yoga pants', 'oil diffuser', 'razor', 'reset spray', 'thermometer']), ('Computer & Accessories', ['PC', 'monitor', 'keyboard', 'headset', 'mouse']), ('Furniture', ['table', 'armchair', 'chair', 'couch', 'bed', 'frame'])])"
      ]
     },
     "execution_count": 14,
     "metadata": {},
     "output_type": "execute_result"
    }
   ],
   "source": [
    "Ali_Johnson_Superstore.items()"
   ]
  },
  {
   "cell_type": "code",
   "execution_count": 15,
   "id": "a2ec2474",
   "metadata": {},
   "outputs": [
    {
     "data": {
      "text/plain": [
       "dict_keys(['Fashion', 'Electronics', 'Health & Wellness', 'Computer & Accessories', 'Furniture'])"
      ]
     },
     "execution_count": 15,
     "metadata": {},
     "output_type": "execute_result"
    }
   ],
   "source": [
    "Ali_Johnson_Superstore.keys()"
   ]
  },
  {
   "cell_type": "code",
   "execution_count": 16,
   "id": "6a180715",
   "metadata": {},
   "outputs": [
    {
     "data": {
      "text/plain": [
       "dict_values([['footwear', 'eyewear', 'bags', 'jewelry', 'accessories'], ['TV', 'iron', 'refrigerator', 'mixer grinder', 'washing machine'], ['Yoga pants', 'oil diffuser', 'razor', 'reset spray', 'thermometer'], ['PC', 'monitor', 'keyboard', 'headset', 'mouse'], ['table', 'armchair', 'chair', 'couch', 'bed', 'frame']])"
      ]
     },
     "execution_count": 16,
     "metadata": {},
     "output_type": "execute_result"
    }
   ],
   "source": [
    "Ali_Johnson_Superstore.values()"
   ]
  },
  {
   "cell_type": "code",
   "execution_count": 20,
   "id": "8c0cc6e6",
   "metadata": {},
   "outputs": [
    {
     "name": "stdout",
     "output_type": "stream",
     "text": [
      "Updated dictionary: {'Fashion': ['footwear', 'eyewear', 'bags', 'jewelry', 'accessories'], 'Electronics': ['TV', 'iron', 'refrigerator', 'mixer grinder', 'washing machine'], 'Health & Wellness': ['Yoga pants', 'oil diffuser', 'razor', 'thermometer'], 'Computer & Accessories': ['PC', 'monitor', 'keyboard', 'headset', 'mouse'], 'Furniture': ['table', 'armchair', 'chair', 'couch', 'bed', 'frame']}\n"
     ]
    }
   ],
   "source": [
    "Ali_Johnson_Superstore = {'Fashion': [\"footwear\", \"eyewear\", \"bags\", \"jewelry\", \"accessories\"], 'Electronics': [\"TV\", \"iron\", \"refrigerator\", \"mixer grinder\", \"washing machine\"], 'Health & Wellness': [\"Yoga pants\", \"oil diffuser\", \"razor\", \"reset spray\", \"thermometer\"],'Computer & Accessories': [\"PC\", \"monitor\", \"keyboard\", \"headset\", \"mouse\"], 'Furniture': [\"table\", \"armchair\", \"chair\", \"couch\", \"bed\", \"frame\"] }\n",
    "# Remove 'reset spray' from the list associated with 'Health & Wellness'\n",
    "if 'reset spray' in Ali_Johnson_Superstore['Health & Wellness']:\n",
    "    Ali_Johnson_Superstore['Health & Wellness'].remove('reset spray')\n",
    "    print(\"Updated dictionary:\", Ali_Johnson_Superstore)"
   ]
  },
  {
   "cell_type": "code",
   "execution_count": 23,
   "id": "12f07c71",
   "metadata": {},
   "outputs": [
    {
     "name": "stdout",
     "output_type": "stream",
     "text": [
      "Updated dictionary: {'Fashion': ['footwear', 'eyewear', 'bags', 'jewelry', 'accessories'], 'Electronics': ['TV', 'iron', 'refrigerator', 'mixer grinder', 'washing machine'], 'Health & Wellness': ['Yoga pants', 'oil diffuser', 'facial razor', 'reset spray', 'thermometer'], 'Computer & Accessories': ['PC', 'monitor', 'keyboard', 'headset', 'mouse'], 'Furniture': ['table', 'armchair', 'chair', 'couch', 'bed', 'frame']}\n"
     ]
    }
   ],
   "source": [
    "Ali_Johnson_Superstore = {'Fashion': [\"footwear\", \"eyewear\", \"bags\", \"jewelry\", \"accessories\"], 'Electronics': [\"TV\", \"iron\", \"refrigerator\", \"mixer grinder\", \"washing machine\"], 'Health & Wellness': [\"Yoga pants\", \"oil diffuser\", \"razor\", \"reset spray\", \"thermometer\"],'Computer & Accessories': [\"PC\", \"monitor\", \"keyboard\", \"headset\", \"mouse\"], 'Furniture': [\"table\", \"armchair\", \"chair\", \"couch\", \"bed\", \"frame\"] }\n",
    "\n",
    "# Replace 'razor' with 'facial razor' in the list associated with 'Health & Wellness'\n",
    "if 'razor' in Ali_Johnson_Superstore['Health & Wellness']:\n",
    "    index_to_replace = Ali_Johnson_Superstore['Health & Wellness'].index('razor')\n",
    "    Ali_Johnson_Superstore['Health & Wellness'][index_to_replace] = 'facial razor'\n",
    "\n",
    "print(\"Updated dictionary:\", Ali_Johnson_Superstore)"
   ]
  },
  {
   "cell_type": "code",
   "execution_count": 24,
   "id": "0cee02e2",
   "metadata": {},
   "outputs": [
    {
     "name": "stdout",
     "output_type": "stream",
     "text": [
      "Updated dictionary: {'Fashion': ['footwear', 'eyewear', 'bags', 'jewelry', 'accessories', 'Shoes', 'wristwatches', 'hijab'], 'Electronics': ['TV', 'iron', 'refrigerator', 'mixer grinder', 'washing machine', 'microwave', 'gas cooker', 'iron stand'], 'Health & Wellness': ['Yoga pants', 'oil diffuser', 'razor', 'reset spray', 'thermometer'], 'Computer & Accessories': ['PC', 'monitor', 'keyboard', 'headset', 'mouse'], 'Furniture': ['table', 'armchair', 'chair', 'couch', 'bed', 'frame']}\n"
     ]
    }
   ],
   "source": [
    "Ali_Johnson_Superstore = {'Fashion': [\"footwear\", \"eyewear\", \"bags\", \"jewelry\", \"accessories\"], 'Electronics': [\"TV\", \"iron\", \"refrigerator\", \"mixer grinder\", \"washing machine\"], 'Health & Wellness': [\"Yoga pants\", \"oil diffuser\", \"razor\", \"reset spray\", \"thermometer\"],'Computer & Accessories': [\"PC\", \"monitor\", \"keyboard\", \"headset\", \"mouse\"], 'Furniture': [\"table\", \"armchair\", \"chair\", \"couch\", \"bed\", \"frame\"] }\n",
    "\n",
    "# New products to be added\n",
    "new_products_Fashion = ['Shoes', 'wristwatches', 'hijab']\n",
    "new_products_Electronics = ['microwave', 'gas cooker', 'iron stand']\n",
    "\n",
    "# Add new products to 'Fashion'\n",
    "Ali_Johnson_Superstore['Fashion'].extend(new_products_Fashion)\n",
    "\n",
    "# Add new products to 'Electronics'\n",
    "Ali_Johnson_Superstore['Electronics'].extend(new_products_Electronics)\n",
    "\n",
    "print(\"Updated dictionary:\", Ali_Johnson_Superstore)"
   ]
  },
  {
   "cell_type": "code",
   "execution_count": null,
   "id": "e10ff216",
   "metadata": {},
   "outputs": [],
   "source": []
  }
 ],
 "metadata": {
  "kernelspec": {
   "display_name": "Python 3 (ipykernel)",
   "language": "python",
   "name": "python3"
  },
  "language_info": {
   "codemirror_mode": {
    "name": "ipython",
    "version": 3
   },
   "file_extension": ".py",
   "mimetype": "text/x-python",
   "name": "python",
   "nbconvert_exporter": "python",
   "pygments_lexer": "ipython3",
   "version": "3.10.9"
  }
 },
 "nbformat": 4,
 "nbformat_minor": 5
}
